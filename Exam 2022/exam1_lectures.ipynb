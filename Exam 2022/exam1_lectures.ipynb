{
 "cells": [
  {
   "cell_type": "code",
   "execution_count": 1,
   "metadata": {},
   "outputs": [],
   "source": [
    "import matplotlib.pyplot as plt\n",
    "import numpy as np\n",
    "import pandas as pd\n",
    "from math import sqrt, exp, factorial\n",
    "from scipy.stats import norm\n",
    "from numpy.linalg import inv\n"
   ]
  },
  {
   "cell_type": "code",
   "execution_count": 2,
   "metadata": {},
   "outputs": [
    {
     "data": {
      "text/plain": [
       "(0.13093073414159542, array([[0.52857143]]))"
      ]
     },
     "execution_count": 2,
     "metadata": {},
     "output_type": "execute_result"
    }
   ],
   "source": [
    "C = np.array([[0.04, -0.04], [-0.04, 0.16]])\n",
    "mu = np.array([[0.5], [0.6]])\n",
    "# W = np.array([[0.5], [0.5]])\n",
    "ones = np.ones((len(mu), 1))\n",
    "W = ((ones.T @ inv(C)) / (ones.T @ inv(C) @ ones)).T\n",
    "sqrt(W.T @ (C) @ W), W.T@mu\n"
   ]
  },
  {
   "cell_type": "code",
   "execution_count": 3,
   "metadata": {},
   "outputs": [
    {
     "data": {
      "text/plain": [
       "array([[5., 2.]])"
      ]
     },
     "execution_count": 3,
     "metadata": {},
     "output_type": "execute_result"
    }
   ],
   "source": [
    "W.T*7"
   ]
  },
  {
   "cell_type": "code",
   "execution_count": 4,
   "metadata": {},
   "outputs": [
    {
     "data": {
      "text/plain": [
       "4.328853274833054"
      ]
     },
     "execution_count": 4,
     "metadata": {},
     "output_type": "execute_result"
    }
   ],
   "source": [
    "num = 5 \n",
    "rate = 0.08\n",
    "face = 1000\n",
    "coupon = 0.2\n",
    "PV = sum([face*coupon/(1+rate)**i for i in range(1,num+1)])+face/(1+rate)**num\n",
    "D = (sum([i for i in range(1,num+1)])*(face*coupon)+(face*num/(1+rate)**num))/PV\n",
    "D"
   ]
  },
  {
   "cell_type": "code",
   "execution_count": 5,
   "metadata": {},
   "outputs": [
    {
     "data": {
      "text/plain": [
       "1479.1252044493697"
      ]
     },
     "execution_count": 5,
     "metadata": {},
     "output_type": "execute_result"
    }
   ],
   "source": [
    "PV"
   ]
  },
  {
   "cell_type": "code",
   "execution_count": 6,
   "metadata": {},
   "outputs": [
    {
     "data": {
      "text/plain": [
       "(array([[5.95113316, 2.04348929]]),\n",
       " array([[ 680.585  , 1479.125  ],\n",
       "        [3402.925  , 5665.04875]]))"
      ]
     },
     "execution_count": 6,
     "metadata": {},
     "output_type": "execute_result"
    }
   ],
   "source": [
    "rhs = np.array([[10000/(1+0.08)**4.5, (10000*4.5)/(1+0.08)**4.5]]).T\n",
    "lhs = np.array([[680.585 , 1479.125],[680.585*5 , 1479.125*3.83]])\n",
    "ans = np.linalg.solve(lhs,rhs)\n",
    "# lhs, rhs\n",
    "# ans.T@lhs\n",
    "ans.T, lhs"
   ]
  },
  {
   "cell_type": "code",
   "execution_count": 7,
   "metadata": {},
   "outputs": [
    {
     "data": {
      "text/plain": [
       "{2: [3.9305999999999983, 5.293320000000001, 10],\n",
       " 1: [4.022788990825687, 6.295608562691128],\n",
       " 0: [4.385683958514524]}"
      ]
     },
     "execution_count": 7,
     "metadata": {},
     "output_type": "execute_result"
    }
   ],
   "source": [
    "num = 3\n",
    "periods = [\"U\" * i + \"D\" * (j - i) for j in range(num + 1) for i in range(j + 1)]\n",
    "periods\n",
    "u = 1.15\n",
    "d = 1 - 0.03\n",
    "r = 0.09\n",
    "R = 1 + r\n",
    "q = (R - d) / (u - d)\n",
    "dic = {}\n",
    "\n",
    "\n",
    "def C(Cu, Cd):\n",
    "    global R, q\n",
    "    return 1 /R * (q * Cu + (1 - q) * Cd)\n",
    "lis= [70.357,59.3449,50.055]\n",
    "lis= [58.9306,49.70668,41.9265]\n",
    "for i,val in enumerate(lis):\n",
    "    lis[i] = min(10,abs(val-55))\n",
    "while len(lis) !=0:\n",
    "    li = []\n",
    "    for i in range(len(lis)-1):\n",
    "        li.append(C(lis[i], lis[i + 1]))\n",
    "    dic[len(lis)-1] = lis\n",
    "    lis=li\n",
    "dic"
   ]
  },
  {
   "cell_type": "code",
   "execution_count": 8,
   "metadata": {},
   "outputs": [
    {
     "data": {
      "text/plain": [
       "4.906078608335472"
      ]
     },
     "execution_count": 8,
     "metadata": {},
     "output_type": "execute_result"
    }
   ],
   "source": [
    "C(5.828596545371233,4.385683958514524)"
   ]
  },
  {
   "cell_type": "markdown",
   "metadata": {},
   "source": [
    "# black scholes"
   ]
  },
  {
   "cell_type": "code",
   "execution_count": 23,
   "metadata": {},
   "outputs": [
    {
     "name": "stdout",
     "output_type": "stream",
     "text": [
      "put: 0.3344657549181722\n"
     ]
    },
    {
     "data": {
      "text/plain": [
       "('call: ', '1.6026620198534722')"
      ]
     },
     "execution_count": 23,
     "metadata": {},
     "output_type": "execute_result"
    }
   ],
   "source": [
    "K = 80\n",
    "S = 87\n",
    "T = 35/252\n",
    "r = 5/100\n",
    "vol = 0.2 \n",
    "d1 = 1/(vol*sqrt(T))*(np.log(S/K)+(r+vol**2/2)*(T))\n",
    "\n",
    "d2 = 1/(vol*sqrt(T))*(np.log(S/K)+(r-vol**2/2)*(T))\n",
    "print('put: '+ str(-norm.cdf(-d1)*S+norm.cdf(-d2)*K*exp(-r*(T))))\n",
    "K = 90 \n",
    "d1 = 1/(vol*sqrt(T))*(np.log(S/K)+(r+vol**2/2)*(T))\n",
    "d2 = 1/(vol*sqrt(T))*(np.log(S/K)+(r-vol**2/2)*(T))\n",
    "'call: ',str(norm.cdf(d1)*S-norm.cdf(d2)*K*exp(-r*(T)))"
   ]
  },
  {
   "cell_type": "code",
   "execution_count": 24,
   "metadata": {},
   "outputs": [
    {
     "data": {
      "text/plain": [
       "1.9371277747716444"
      ]
     },
     "execution_count": 24,
     "metadata": {},
     "output_type": "execute_result"
    }
   ],
   "source": [
    "1.6026620198534722+0.3344657549181722"
   ]
  },
  {
   "cell_type": "code",
   "execution_count": 37,
   "metadata": {},
   "outputs": [
    {
     "data": {
      "text/plain": [
       "(array([[0.36470588]]),\n",
       " array([[0.29619377]]),\n",
       " array([[0.64705882],\n",
       "        [0.35294118]]))"
      ]
     },
     "execution_count": 37,
     "metadata": {},
     "output_type": "execute_result"
    }
   ],
   "source": [
    "C = np.array([[ 0.4,0.2],[0.2,0.3]])\n",
    "mu = np.array([[0.4,0.3]]).T\n",
    "ones = np.ones((len(mu),1))\n",
    "r = 5/100\n",
    "\n",
    "W= ((ones.T@inv(C))/(ones.T@inv(C)@ones)).T\n",
    "W= (((mu-ones*r).T@inv(C))/((mu-ones*r).T@inv(C)@ones)).T\n",
    "sigma2 = W.T@C@W\n",
    "mu = W.T@mu\n",
    "mu, (sigma2), W"
   ]
  },
  {
   "cell_type": "code",
   "execution_count": null,
   "metadata": {},
   "outputs": [],
   "source": [
    "r = 5.02/100\n",
    "S = 30 \n",
    "K = 32 \n",
    "v = 5/100\n",
    "vol = 2/100\n",
    "R = r+1 \n",
    "q = (R-d)/(u-d)"
   ]
  }
 ],
 "metadata": {
  "interpreter": {
   "hash": "45e62e654fdc68ec030280a344900320dc48e38067efc35b741f000902ff5280"
  },
  "kernelspec": {
   "display_name": "Python 3.9.12 64-bit (windows store)",
   "language": "python",
   "name": "python3"
  },
  "language_info": {
   "codemirror_mode": {
    "name": "ipython",
    "version": 3
   },
   "file_extension": ".py",
   "mimetype": "text/x-python",
   "name": "python",
   "nbconvert_exporter": "python",
   "pygments_lexer": "ipython3",
   "version": "3.9.12"
  },
  "orig_nbformat": 4
 },
 "nbformat": 4,
 "nbformat_minor": 2
}
