{
 "cells": [
  {
   "cell_type": "code",
   "execution_count": 1,
   "metadata": {},
   "outputs": [],
   "source": [
    "import scipy\n",
    "import numpy as np\n"
   ]
  },
  {
   "cell_type": "code",
   "execution_count": 2,
   "metadata": {},
   "outputs": [],
   "source": [
    "def Expected_BinomialModel(p, u, d, s0, n):\n",
    "    return sum([scipy.special.comb(n, i)*(p*u)**(n-i)*((1-p)*d)**i*s0 for i in range(n)])\n",
    "\n",
    "\n",
    "def Variance_BinomialModel(p, u, d, s0, n):\n",
    "    ExpecVal = Expected_BinomialModel(p, u, d, s0, n)\n",
    "    return sum([scipy.special.comb(n, i)*(p)**(n-i)*((1-p))**i*(s0*u**(n-i)*d**(i)-ExpecVal) for i in range(n)])\n"
   ]
  },
  {
   "cell_type": "code",
   "execution_count": 3,
   "metadata": {},
   "outputs": [
    {
     "ename": "AttributeError",
     "evalue": "module 'scipy' has no attribute 'special'",
     "output_type": "error",
     "traceback": [
      "\u001b[1;31m---------------------------------------------------------------------------\u001b[0m",
      "\u001b[1;31mAttributeError\u001b[0m                            Traceback (most recent call last)",
      "\u001b[1;32mc:\\OneDrive - TU Eindhoven\\TUE\\code\\TueCode\\Financial mathematics\\lecture 7.ipynb Cell 3'\u001b[0m in \u001b[0;36m<cell line: 16>\u001b[1;34m()\u001b[0m\n\u001b[0;32m     <a href='vscode-notebook-cell:/c%3A/OneDrive%20-%20TU%20Eindhoven/TUE/code/TueCode/Financial%20mathematics/lecture%207.ipynb#ch0000002?line=13'>14</a>\u001b[0m p \u001b[39m=\u001b[39m\u001b[39m0.5\u001b[39m\n\u001b[0;32m     <a href='vscode-notebook-cell:/c%3A/OneDrive%20-%20TU%20Eindhoven/TUE/code/TueCode/Financial%20mathematics/lecture%207.ipynb#ch0000002?line=14'>15</a>\u001b[0m u \u001b[39m=\u001b[39m \u001b[39m1.05\u001b[39m\n\u001b[1;32m---> <a href='vscode-notebook-cell:/c%3A/OneDrive%20-%20TU%20Eindhoven/TUE/code/TueCode/Financial%20mathematics/lecture%207.ipynb#ch0000002?line=15'>16</a>\u001b[0m Expected_BinomialLN(p, u, s0, n)\n",
      "\u001b[1;32mc:\\OneDrive - TU Eindhoven\\TUE\\code\\TueCode\\Financial mathematics\\lecture 7.ipynb Cell 3'\u001b[0m in \u001b[0;36mExpected_BinomialLN\u001b[1;34m(p, u, s0, n)\u001b[0m\n\u001b[0;32m      <a href='vscode-notebook-cell:/c%3A/OneDrive%20-%20TU%20Eindhoven/TUE/code/TueCode/Financial%20mathematics/lecture%207.ipynb#ch0000002?line=0'>1</a>\u001b[0m \u001b[39mdef\u001b[39;00m \u001b[39mExpected_BinomialLN\u001b[39m(p, u, s0, n):\n\u001b[1;32m----> <a href='vscode-notebook-cell:/c%3A/OneDrive%20-%20TU%20Eindhoven/TUE/code/TueCode/Financial%20mathematics/lecture%207.ipynb#ch0000002?line=1'>2</a>\u001b[0m     \u001b[39mreturn\u001b[39;00m \u001b[39msum\u001b[39m([scipy\u001b[39m.\u001b[39mspecial\u001b[39m.\u001b[39mcomb(n, i)\u001b[39m*\u001b[39m((p\u001b[39m*\u001b[39mnp\u001b[39m.\u001b[39mlog(u))\u001b[39m*\u001b[39m\u001b[39m*\u001b[39m(n\u001b[39m-\u001b[39mi))\u001b[39m*\u001b[39m(((\u001b[39m1\u001b[39m\u001b[39m-\u001b[39mp)\u001b[39m*\u001b[39mnp\u001b[39m.\u001b[39mlog(\u001b[39m1\u001b[39m\u001b[39m/\u001b[39mu))\u001b[39m*\u001b[39m\u001b[39m*\u001b[39mi)\u001b[39m*\u001b[39ms0 \u001b[39mfor\u001b[39;00m i \u001b[39min\u001b[39;00m \u001b[39mrange\u001b[39m(n)])\n",
      "\u001b[1;32mc:\\OneDrive - TU Eindhoven\\TUE\\code\\TueCode\\Financial mathematics\\lecture 7.ipynb Cell 3'\u001b[0m in \u001b[0;36m<listcomp>\u001b[1;34m(.0)\u001b[0m\n\u001b[0;32m      <a href='vscode-notebook-cell:/c%3A/OneDrive%20-%20TU%20Eindhoven/TUE/code/TueCode/Financial%20mathematics/lecture%207.ipynb#ch0000002?line=0'>1</a>\u001b[0m \u001b[39mdef\u001b[39;00m \u001b[39mExpected_BinomialLN\u001b[39m(p, u, s0, n):\n\u001b[1;32m----> <a href='vscode-notebook-cell:/c%3A/OneDrive%20-%20TU%20Eindhoven/TUE/code/TueCode/Financial%20mathematics/lecture%207.ipynb#ch0000002?line=1'>2</a>\u001b[0m     \u001b[39mreturn\u001b[39;00m \u001b[39msum\u001b[39m([scipy\u001b[39m.\u001b[39;49mspecial\u001b[39m.\u001b[39mcomb(n, i)\u001b[39m*\u001b[39m((p\u001b[39m*\u001b[39mnp\u001b[39m.\u001b[39mlog(u))\u001b[39m*\u001b[39m\u001b[39m*\u001b[39m(n\u001b[39m-\u001b[39mi))\u001b[39m*\u001b[39m(((\u001b[39m1\u001b[39m\u001b[39m-\u001b[39mp)\u001b[39m*\u001b[39mnp\u001b[39m.\u001b[39mlog(\u001b[39m1\u001b[39m\u001b[39m/\u001b[39mu))\u001b[39m*\u001b[39m\u001b[39m*\u001b[39mi)\u001b[39m*\u001b[39ms0 \u001b[39mfor\u001b[39;00m i \u001b[39min\u001b[39;00m \u001b[39mrange\u001b[39m(n)])\n",
      "\u001b[1;31mAttributeError\u001b[0m: module 'scipy' has no attribute 'special'"
     ]
    }
   ],
   "source": [
    "\n",
    "def Expected_BinomialLN(p, u, s0, n):\n",
    "    return sum([scipy.special.comb(n, i)*((p*np.log(u))**(n-i))*(((1-p)*np.log(1/u))**i)*s0 for i in range(n)])\n",
    "\n",
    "\n",
    "def Variance_BinomialLN(p, u, s0, n, v):\n",
    "    ExpecVal = Expected_BinomialLN(p, u, s0, n)\n",
    "    return sum([scipy.special.comb(n, i) * (((n-i)*np.log(u))*(i*np.log(1/u))-v)**2 * ((p)**(n-i)) * (((1-p))**i) for i in range(n)])\n",
    "\n",
    "\n",
    "s0 = 100\n",
    "v = 0.05\n",
    "sigma = 0.25\n",
    "n=1\n",
    "p =0.5\n",
    "u = 1.05\n",
    "Expected_BinomialLN(p, u, s0, n)"
   ]
  },
  {
   "cell_type": "code",
   "execution_count": null,
   "metadata": {},
   "outputs": [],
   "source": []
  }
 ],
 "metadata": {
  "interpreter": {
   "hash": "45e62e654fdc68ec030280a344900320dc48e38067efc35b741f000902ff5280"
  },
  "kernelspec": {
   "display_name": "Python 3",
   "language": "python",
   "name": "python3"
  },
  "language_info": {
   "codemirror_mode": {
    "name": "ipython",
    "version": 3
   },
   "file_extension": ".py",
   "mimetype": "text/x-python",
   "name": "python",
   "nbconvert_exporter": "python",
   "pygments_lexer": "ipython3",
   "version": "3.9.12"
  },
  "varInspector": {
   "cols": {
    "lenName": 16,
    "lenType": 16,
    "lenVar": 40
   },
   "kernels_config": {
    "python": {
     "delete_cmd_postfix": "",
     "delete_cmd_prefix": "del ",
     "library": "var_list.py",
     "varRefreshCmd": "print(var_dic_list())"
    },
    "r": {
     "delete_cmd_postfix": ") ",
     "delete_cmd_prefix": "rm(",
     "library": "var_list.r",
     "varRefreshCmd": "cat(var_dic_list()) "
    }
   },
   "types_to_exclude": [
    "module",
    "function",
    "builtin_function_or_method",
    "instance",
    "_Feature"
   ],
   "window_display": false
  }
 },
 "nbformat": 4,
 "nbformat_minor": 2
}
