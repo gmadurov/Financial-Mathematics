{
 "cells": [
  {
   "cell_type": "code",
   "execution_count": 13,
   "metadata": {},
   "outputs": [],
   "source": [
    "import matplotlib.pyplot as plt\n",
    "import numpy as np\n",
    "import pandas as pd\n",
    "from math import sqrt, exp, factorial\n",
    "import pprint\n",
    "from scipy.stats import norm\n"
   ]
  },
  {
   "cell_type": "code",
   "execution_count": 14,
   "metadata": {},
   "outputs": [],
   "source": [
    "DF = pd.read_csv('TSLA.csv', delimiter=',')['Open']\n",
    "AR = np.array(DF)\n"
   ]
  },
  {
   "cell_type": "code",
   "execution_count": 15,
   "metadata": {},
   "outputs": [
    {
     "data": {
      "text/plain": [
       "0       615.640015\n",
       "1       601.750000\n",
       "2       646.619995\n",
       "3       688.369995\n",
       "4       707.710022\n",
       "          ...     \n",
       "248     930.000000\n",
       "249     979.940002\n",
       "250    1009.729980\n",
       "251    1008.000000\n",
       "252    1065.099976\n",
       "Name: Open, Length: 253, dtype: float64"
      ]
     },
     "execution_count": 15,
     "metadata": {},
     "output_type": "execute_result"
    }
   ],
   "source": [
    "DF"
   ]
  },
  {
   "cell_type": "code",
   "execution_count": 20,
   "metadata": {},
   "outputs": [],
   "source": [
    "DF_R = pd.DataFrame()\n",
    "# for col in DF.columns[1:]:\n",
    "# col = 'Open'\n",
    "    # DF_R.loc[0, 'r_'+col] = 0 # taken out because you only use sum of 1 to T\n",
    "for i in range(1, len(DF)):\n",
    "    try:\n",
    "        DF_R.loc[i, 'r_'] = np.log((DF.loc[i] /DF.loc[i-1]))\n",
    "    except IndexError:\n",
    "        print(f'error in {i}, in {1}')\n",
    "R_array = np.array(DF_R)\n",
    "# R_array\n",
    "mu = np.log(np.array([[i] for i in np.sum(R_array, axis=0)])/252)\n",
    "C = np.cov(R_array, rowvar=False)*252\n",
    "v = 0.548162\n",
    "sigma2 =  0.370434\n",
    "sigma = sqrt(sigma2)\n"
   ]
  },
  {
   "cell_type": "code",
   "execution_count": 27,
   "metadata": {},
   "outputs": [],
   "source": [
    "mu = float(DF_R.mean()*len(DF_R))\n",
    "sigma = float((DF_R.std()**2)*(len(DF_R)))"
   ]
  },
  {
   "cell_type": "code",
   "execution_count": 28,
   "metadata": {},
   "outputs": [
    {
     "data": {
      "text/plain": [
       "(0.5481615464393828, 0.3704352546829919)"
      ]
     },
     "execution_count": 28,
     "metadata": {},
     "output_type": "execute_result"
    }
   ],
   "source": [
    "mu, sigma"
   ]
  },
  {
   "cell_type": "code",
   "execution_count": 19,
   "metadata": {},
   "outputs": [
    {
     "data": {
      "text/plain": [
       "1361.94"
      ]
     },
     "execution_count": 19,
     "metadata": {},
     "output_type": "execute_result"
    }
   ],
   "source": [
    "x = 615.64\n",
    "8735.57-x\n",
    "3693.84\n",
    "1361.94"
   ]
  },
  {
   "cell_type": "code",
   "execution_count": null,
   "metadata": {},
   "outputs": [],
   "source": []
  }
 ],
 "metadata": {
  "interpreter": {
   "hash": "45e62e654fdc68ec030280a344900320dc48e38067efc35b741f000902ff5280"
  },
  "kernelspec": {
   "display_name": "Python 3.9.12 64-bit (windows store)",
   "language": "python",
   "name": "python3"
  },
  "language_info": {
   "codemirror_mode": {
    "name": "ipython",
    "version": 3
   },
   "file_extension": ".py",
   "mimetype": "text/x-python",
   "name": "python",
   "nbconvert_exporter": "python",
   "pygments_lexer": "ipython3",
   "version": "3.9.12"
  },
  "orig_nbformat": 4
 },
 "nbformat": 4,
 "nbformat_minor": 2
}
