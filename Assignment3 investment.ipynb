{
 "cells": [
  {
   "cell_type": "code",
   "execution_count": 1,
   "metadata": {},
   "outputs": [],
   "source": [
    "from math import sqrt\n",
    "\n",
    "import matplotlib.pyplot as plt\n",
    "import numpy as np\n",
    "import pandas as pd\n",
    "from numpy.linalg import inv\n",
    "import mplcursors\n"
   ]
  },
  {
   "cell_type": "code",
   "execution_count": 2,
   "metadata": {},
   "outputs": [],
   "source": [
    "def inital_W(C):\n",
    "    \"\"\"finds the initial weight matrix W, given a covariance matrix C\"\"\"\n",
    "    ones = np.ones((len(C), 1))\n",
    "    # W = np.transpose(\n",
    "    #     np.matmul(np.transpose(ones), inv(C))\n",
    "    #     / np.matmul((np.matmul(np.transpose(ones), inv(C))), ones)\n",
    "    # )\n",
    "    W = ((ones.T @ inv(C)) / ((ones.T) @ inv(C) @ ones)).T\n",
    "    return W\n",
    "\n",
    "\n",
    "def getMin_μσ2(μ, C, show=True):\n",
    "    \"\"\"gets the minimum value of μ and σ**2 for a given expected return matrix μ\\n\n",
    "    and a covariance matrix C, if show is true function returns a string\"\"\"\n",
    "    W = inital_W(C)\n",
    "    # σ2_min = np.matmul(np.matmul(np.transpose(W), C), W)\n",
    "    σ2_min = W.T @ C @ W\n",
    "    μ_min = W.T @ μ\n",
    "    if show:\n",
    "        return f\"μ_min  = {μ_min[0][0]}  \\nσ2_min = { σ2_min[0][0]}\"\n",
    "    return μ_min[0][0], σ2_min[0][0]\n",
    "\n",
    "\n",
    "def get_μσ2(μ, C, W, show=True):\n",
    "    \"\"\"gets the value of μ and σ**2, for a given expected return matrix μ\\n and a covariance matrix C, and a weight matrix W.\\nif show is true function returns a string\"\"\"\n",
    "    # σ2 = np.matmul(np.matmul(np.transpose(W), C), W)\n",
    "    σ2 = W.T @ C @ W\n",
    "    # μ = np.matmul(np.transpose(W), μ)\n",
    "    μ = W.T @ μ\n",
    "    if show:\n",
    "        return f\"μ  = {μ[0][0]}  \\n σ2 = { σ2[0][0]}\"\n",
    "    return μ[0][0], σ2[0][0]\n",
    "\n",
    "\n",
    "def Markowitz(muval, μ, C):\n",
    "    \"\"\"Solve the Markowitz problem given a value specific value of return- muval\n",
    "    the excpected return vector (μ) and the covariance matrix (C)\"\"\"\n",
    "    if muval == 0:\n",
    "        muval = getMin_μσ2(μ, C, False)[0]\n",
    "    # set up vector for all the weights on the Right Hand Side (RHS)\n",
    "    RHS = np.array([[0] for i in range(len(μ))])\n",
    "    # adds the value of μ and 1 to the RHS vector (forming the last 2 constraints)\n",
    "    RHS = np.vstack((RHS, np.array([[muval], [1]])))\n",
    "    # the following gets to the covariance matrix and adds the labmda variable coefficients\n",
    "    # to create the Left Hand Side of the equation\n",
    "    LHS = np.append(C, -μ, axis=1)\n",
    "    LHS = np.append(LHS, -np.ones((len(C), 1)), axis=1)\n",
    "    LHS = np.vstack((LHS, np.append(μ, [0, 0])))\n",
    "    LHS = np.vstack((LHS, np.append(np.ones(len(C)), [0, 0])))\n",
    "    # this line solves it and returns (ONLY) the values of the weights\n",
    "    # return pd.DataFrame(LHS), pd.DataFrame(RHS)\n",
    "    return (inv(LHS) @ RHS)[: len(μ)]\n",
    "\n",
    "\n",
    "# Markowitz(2, μ, C)\n"
   ]
  },
  {
   "cell_type": "code",
   "execution_count": 3,
   "metadata": {},
   "outputs": [
    {
     "ename": "NameError",
     "evalue": "name 'μ' is not defined",
     "output_type": "error",
     "traceback": [
      "\u001b[1;31m---------------------------------------------------------------------------\u001b[0m",
      "\u001b[1;31mNameError\u001b[0m                                 Traceback (most recent call last)",
      "\u001b[1;32mc:\\OneDrive - TU Eindhoven\\TUE\\code\\TueCode\\Financial mathematics\\Assignment3 investment.ipynb Cell 3'\u001b[0m in \u001b[0;36m<cell line: 40>\u001b[1;34m()\u001b[0m\n\u001b[0;32m     <a href='vscode-notebook-cell:/c%3A/OneDrive%20-%20TU%20Eindhoven/TUE/code/TueCode/Financial%20mathematics/Assignment3%20investment.ipynb#ch0000002?line=37'>38</a>\u001b[0m         \u001b[39mreturn\u001b[39;00m\n\u001b[0;32m     <a href='vscode-notebook-cell:/c%3A/OneDrive%20-%20TU%20Eindhoven/TUE/code/TueCode/Financial%20mathematics/Assignment3%20investment.ipynb#ch0000002?line=38'>39</a>\u001b[0m     \u001b[39mreturn\u001b[39;00m \u001b[39mlist\u001b[39m(\u001b[39mzip\u001b[39m(sigmalist, mewplotlist))\n\u001b[1;32m---> <a href='vscode-notebook-cell:/c%3A/OneDrive%20-%20TU%20Eindhoven/TUE/code/TueCode/Financial%20mathematics/Assignment3%20investment.ipynb#ch0000002?line=39'>40</a>\u001b[0m plotEfficientFrontier(μ, C)\n",
      "\u001b[1;31mNameError\u001b[0m: name 'μ' is not defined"
     ]
    }
   ],
   "source": [
    "\n",
    "def plotEfficientFrontier(μ, C, lb=-1, ub=2, show=True):\n",
    "    '''this functions plots the efficient frontier given a vector μ-Expected return per period over the comodities\n",
    "        C-covariance matrix of the comodities\n",
    "        if show is True it will plot the graph\n",
    "        else it will return the list(zip(sigmalist, mewplotlist))\n",
    "                    (sigma, mew) of the efficient frontier\n",
    "    '''\n",
    "    sigmalist = []\n",
    "    mewplotlist = []\n",
    "    colour = []\n",
    "    for i in range(lb*1000, ub*1000):  # change this range to what you want to show\n",
    "        i /= 1000\n",
    "        W = Markowitz(i, μ, C)\n",
    "        if i < 0:\n",
    "            colour.append('red')\n",
    "        elif i > 0 and i <= 1:\n",
    "            colour.append('green')\n",
    "        elif i > 1:\n",
    "            colour.append('blue')\n",
    "        else:\n",
    "            colour.append('none')\n",
    "        mewplot = (W.T @ μ)[0][0]\n",
    "        # mewplot = np.matmul(np.transpose(W), )[0][0]\n",
    "        # sig2 = sqrt(np.matmul(np.matmul(np.transpose(W), C), (W))[0][0])\n",
    "        # print(((W.T C@ W.T)[0][0]))\n",
    "        sig2 = sqrt((W.T@ C@ W)[0][0])\n",
    "        mewplotlist.append(mewplot)\n",
    "        sigmalist.append(sig2)\n",
    "    if show:\n",
    "        plt.title('Efficient Frontier')\n",
    "        plt.xlabel('σ (volatility)')\n",
    "        plt.ylabel('μ (return)')\n",
    "        plt.scatter(sigmalist, mewplotlist, c=colour, s=2, )\n",
    "        mplcursors.cursor(hover=True)\n",
    "        # plt.show()\n",
    "        import mpld3\n",
    "        mpld3.show()\n",
    "        return\n",
    "    return list(zip(sigmalist, mewplotlist))\n",
    "plotEfficientFrontier(μ, C)\n"
   ]
  },
  {
   "cell_type": "code",
   "execution_count": null,
   "metadata": {},
   "outputs": [
    {
     "data": {
      "image/png": "[encoded data removed]",
      "text/plain": [
       "<Figure size 432x288 with 1 Axes>"
      ]
     },
     "metadata": {
      "needs_background": "light"
     },
     "output_type": "display_data"
    }
   ],
   "source": [
    "import matplotlib.pyplot as plt\n",
    "import numpy as np\n",
    "import mplcursors\n",
    "np.random.seed(42)\n",
    "\n",
    "fig, ax = plt.subplots()\n",
    "ax.scatter(*np.random.random((2, 26)))\n",
    "ax.set_title(\"Mouse over a point\")\n",
    "crs = mplcursors.cursor(ax,hover=True)\n",
    "\n",
    "crs.connect(\"add\", lambda sel: sel.annotation.set_text(\n",
    "    'Point {},{}'.format(sel.target[0], sel.target[1])))\n",
    "plt.show()"
   ]
  },
  {
   "cell_type": "code",
   "execution_count": null,
   "metadata": {},
   "outputs": [],
   "source": [
    "def MAT(x):\n",
    "    rows = x.split(\"\\n\")\n",
    "    array = []\n",
    "    for row in rows:\n",
    "        numbers = row.split(\" \")\n",
    "        row = []\n",
    "        for number in numbers:\n",
    "            try:\n",
    "                row.append(float(number))\n",
    "            except:\n",
    "                pass\n",
    "        array.append(row)\n",
    "    array = np.array(array)\n",
    "    return array\n"
   ]
  },
  {
   "cell_type": "code",
   "execution_count": null,
   "metadata": {},
   "outputs": [
    {
     "data": {
      "text/html": [
       "<div>\n",
       "<style scoped>\n",
       "    .dataframe tbody tr th:only-of-type {\n",
       "        vertical-align: middle;\n",
       "    }\n",
       "\n",
       "    .dataframe tbody tr th {\n",
       "        vertical-align: top;\n",
       "    }\n",
       "\n",
       "    .dataframe thead th {\n",
       "        text-align: right;\n",
       "    }\n",
       "</style>\n",
       "<table border=\"1\" class=\"dataframe\">\n",
       "  <thead>\n",
       "    <tr style=\"text-align: right;\">\n",
       "      <th></th>\n",
       "      <th>Date</th>\n",
       "      <th>BTC</th>\n",
       "      <th>ETH</th>\n",
       "      <th>DOGE</th>\n",
       "      <th>LTC</th>\n",
       "      <th>HEX</th>\n",
       "    </tr>\n",
       "  </thead>\n",
       "  <tbody>\n",
       "    <tr>\n",
       "      <th>0</th>\n",
       "      <td>2021-02-15</td>\n",
       "      <td>48696.535156</td>\n",
       "      <td>1804.676758</td>\n",
       "      <td>0.062568</td>\n",
       "      <td>214.324997</td>\n",
       "      <td>0.010862</td>\n",
       "    </tr>\n",
       "    <tr>\n",
       "      <th>1</th>\n",
       "      <td>2021-02-16</td>\n",
       "      <td>47944.457031</td>\n",
       "      <td>1778.945557</td>\n",
       "      <td>0.056488</td>\n",
       "      <td>207.610443</td>\n",
       "      <td>0.010084</td>\n",
       "    </tr>\n",
       "    <tr>\n",
       "      <th>2</th>\n",
       "      <td>2021-02-17</td>\n",
       "      <td>49207.277344</td>\n",
       "      <td>1781.350098</td>\n",
       "      <td>0.053522</td>\n",
       "      <td>210.569031</td>\n",
       "      <td>0.010415</td>\n",
       "    </tr>\n",
       "    <tr>\n",
       "      <th>3</th>\n",
       "      <td>2021-02-18</td>\n",
       "      <td>52140.972656</td>\n",
       "      <td>1848.206299</td>\n",
       "      <td>0.049363</td>\n",
       "      <td>236.949249</td>\n",
       "      <td>0.010655</td>\n",
       "    </tr>\n",
       "    <tr>\n",
       "      <th>4</th>\n",
       "      <td>2021-02-19</td>\n",
       "      <td>51675.980469</td>\n",
       "      <td>1938.859863</td>\n",
       "      <td>0.059434</td>\n",
       "      <td>226.899292</td>\n",
       "      <td>0.009991</td>\n",
       "    </tr>\n",
       "    <tr>\n",
       "      <th>...</th>\n",
       "      <td>...</td>\n",
       "      <td>...</td>\n",
       "      <td>...</td>\n",
       "      <td>...</td>\n",
       "      <td>...</td>\n",
       "      <td>...</td>\n",
       "    </tr>\n",
       "    <tr>\n",
       "      <th>361</th>\n",
       "      <td>2022-02-11</td>\n",
       "      <td>43571.128906</td>\n",
       "      <td>3077.413086</td>\n",
       "      <td>0.151895</td>\n",
       "      <td>135.092850</td>\n",
       "      <td>0.209780</td>\n",
       "    </tr>\n",
       "    <tr>\n",
       "      <th>362</th>\n",
       "      <td>2022-02-12</td>\n",
       "      <td>42412.300781</td>\n",
       "      <td>2927.386475</td>\n",
       "      <td>0.144856</td>\n",
       "      <td>126.012909</td>\n",
       "      <td>0.203888</td>\n",
       "    </tr>\n",
       "    <tr>\n",
       "      <th>363</th>\n",
       "      <td>2022-02-13</td>\n",
       "      <td>42236.566406</td>\n",
       "      <td>2916.789551</td>\n",
       "      <td>0.144379</td>\n",
       "      <td>126.670776</td>\n",
       "      <td>0.205782</td>\n",
       "    </tr>\n",
       "    <tr>\n",
       "      <th>364</th>\n",
       "      <td>2022-02-14</td>\n",
       "      <td>42157.398438</td>\n",
       "      <td>2880.187744</td>\n",
       "      <td>0.148869</td>\n",
       "      <td>126.134789</td>\n",
       "      <td>0.200421</td>\n",
       "    </tr>\n",
       "    <tr>\n",
       "      <th>365</th>\n",
       "      <td>2022-02-15</td>\n",
       "      <td>42600.132813</td>\n",
       "      <td>2933.709473</td>\n",
       "      <td>0.145999</td>\n",
       "      <td>124.791725</td>\n",
       "      <td>0.198483</td>\n",
       "    </tr>\n",
       "  </tbody>\n",
       "</table>\n",
       "<p>366 rows × 6 columns</p>\n",
       "</div>"
      ],
      "text/plain": [
       "           Date           BTC          ETH      DOGE         LTC       HEX\n",
       "0    2021-02-15  48696.535156  1804.676758  0.062568  214.324997  0.010862\n",
       "1    2021-02-16  47944.457031  1778.945557  0.056488  207.610443  0.010084\n",
       "2    2021-02-17  49207.277344  1781.350098  0.053522  210.569031  0.010415\n",
       "3    2021-02-18  52140.972656  1848.206299  0.049363  236.949249  0.010655\n",
       "4    2021-02-19  51675.980469  1938.859863  0.059434  226.899292  0.009991\n",
       "..          ...           ...          ...       ...         ...       ...\n",
       "361  2022-02-11  43571.128906  3077.413086  0.151895  135.092850  0.209780\n",
       "362  2022-02-12  42412.300781  2927.386475  0.144856  126.012909  0.203888\n",
       "363  2022-02-13  42236.566406  2916.789551  0.144379  126.670776  0.205782\n",
       "364  2022-02-14  42157.398438  2880.187744  0.148869  126.134789  0.200421\n",
       "365  2022-02-15  42600.132813  2933.709473  0.145999  124.791725  0.198483\n",
       "\n",
       "[366 rows x 6 columns]"
      ]
     },
     "execution_count": 12,
     "metadata": {},
     "output_type": "execute_result"
    }
   ],
   "source": [
    "\n",
    "DF = pd.read_csv('Assignment3-data.csv', delimiter=';')\n",
    "AR = np.array(DF)\n",
    "DF\n"
   ]
  },
  {
   "cell_type": "code",
   "execution_count": null,
   "metadata": {},
   "outputs": [
    {
     "data": {
      "text/plain": [
       "array([[-0.01544418, -0.01425807, -0.09717427, -0.03132884, -0.07162585],\n",
       "       [ 0.02633923,  0.00135167, -0.05250673,  0.01425067,  0.03282428],\n",
       "       [ 0.05961914,  0.0375312 , -0.07770636,  0.12528062,  0.02304369],\n",
       "       ...,\n",
       "       [-0.00414348, -0.00361993, -0.00329293,  0.00522063,  0.00928941],\n",
       "       [-0.00187439, -0.01254866,  0.03109871, -0.00423134, -0.02605184],\n",
       "       [ 0.01050194,  0.01858272, -0.01927869, -0.01064785, -0.00966965]])"
      ]
     },
     "execution_count": 13,
     "metadata": {},
     "output_type": "execute_result"
    }
   ],
   "source": [
    "DF_R = pd.DataFrame()\n",
    "for col in DF.columns[1:]:\n",
    "    # DF_R.loc[0, 'r_'+col] = 0 # taken out because you only use sum of 1 to T\n",
    "    for i in range(1, len(DF[col])):\n",
    "        try:\n",
    "            DF_R.loc[i, 'r_'+col] = ((DF.loc[i, col] -\n",
    "                                     DF.loc[i-1, col]) / DF.loc[i-1, col])\n",
    "        except IndexError:\n",
    "            print(f'error in {i}, in {col}')\n",
    "R_array = np.array(DF_R)\n",
    "R_array\n"
   ]
  },
  {
   "cell_type": "code",
   "execution_count": null,
   "metadata": {},
   "outputs": [
    {
     "data": {
      "text/plain": [
       "(array([[0.5503, 0.5949, 0.5917, 0.6673, 0.2434],\n",
       "        [0.5949, 0.9903, 0.8513, 0.9041, 0.3626],\n",
       "        [0.5917, 0.8513, 3.5886, 1.0684, 0.4884],\n",
       "        [0.6673, 0.9041, 1.0684, 1.2532, 0.4335],\n",
       "        [0.2434, 0.3626, 0.4884, 0.4335, 2.4273]]),\n",
       " array([[0.1419],\n",
       "        [0.9854],\n",
       "        [2.397 ],\n",
       "        [0.1064],\n",
       "        [4.0827]]))"
      ]
     },
     "execution_count": 14,
     "metadata": {},
     "output_type": "execute_result"
    }
   ],
   "source": [
    "# C = np.array(pd.DataFrame.C(DF_R))*365\n",
    "μ = np.round(np.array([[i] for i in np.sum(R_array, axis=0)]), 4)\n",
    "C = np.round(np.cov(R_array, rowvar=False)*252, 4)\n",
    "C, μ"
   ]
  },
  {
   "cell_type": "code",
   "execution_count": null,
   "metadata": {},
   "outputs": [
    {
     "data": {
      "image/png": "[encoded data removed]",
      "text/plain": [
       "<Figure size 432x288 with 1 Axes>"
      ]
     },
     "metadata": {
      "needs_background": "light"
     },
     "output_type": "display_data"
    }
   ],
   "source": [
    "plotEfficientFrontier(μ, C)\n"
   ]
  },
  {
   "cell_type": "code",
   "execution_count": null,
   "metadata": {},
   "outputs": [
    {
     "data": {
      "text/plain": [
       "array([[0.1419],\n",
       "       [0.9854],\n",
       "       [2.397 ],\n",
       "       [0.1064],\n",
       "       [4.0827]])"
      ]
     },
     "execution_count": 9,
     "metadata": {},
     "output_type": "execute_result"
    }
   ],
   "source": [
    "μ\n"
   ]
  },
  {
   "cell_type": "code",
   "execution_count": null,
   "metadata": {},
   "outputs": [
    {
     "data": {
      "image/png": "[encoded data removed]",
      "text/plain": [
       "<Figure size 432x360 with 1 Axes>"
      ]
     },
     "metadata": {
      "needs_background": "light"
     },
     "output_type": "display_data"
    }
   ],
   "source": [
    "def two_fund_theorem_from_matrix(μ, C, r, show=True, fig=None):\n",
    "    if not fig:\n",
    "        fig = plt.figure(figsize=(6, 5))\n",
    "    ones = np.ones((len(C), 1))\n",
    "    W_min = inital_W(C)\n",
    "    # W_market = np.transpose(np.matmul(np.transpose(μ-r*ones), inv(C)) /np.matmul((np.matmul(np.transpose(μ-r*ones), inv(C))), ones))\n",
    "    W_market = (((μ - r * ones).T @ inv(C)) / ((μ - r * ones).T @ inv(C) @ ones)).T\n",
    "    μ1, σ21 = get_μσ2(μ, C, W_min, False)\n",
    "    μ2, σ22 = get_μσ2(μ, C, W_market, False)\n",
    "    σ1, σ2 = sqrt(σ21), sqrt(σ22)\n",
    "    # if μ1 < μ2 and σ21 < σ22:\n",
    "    #     μ1, σ21, μ2, σ22 = μ2, σ22, μ1, σ21\n",
    "    μpoints, σpoints, colours = [], [], []\n",
    "    covMinMarket = np.matmul(np.matmul(np.transpose(W_min), C), W_market)\n",
    "\n",
    "    for w in range(-10, 130):\n",
    "        w /= 100\n",
    "        if w < 0:\n",
    "            colours.append(\"red\")\n",
    "        elif w > 0 and w < 1:\n",
    "            colours.append(\"green\")\n",
    "        elif w > 1:\n",
    "            colours.append(\"blue\")\n",
    "        else:\n",
    "            colours.append(\"black\")\n",
    "        σv = sqrt(\n",
    "            ((w**2) * (σ21))\n",
    "            + (2 * w * (1 - w) * covMinMarket)\n",
    "            + (((1 - w) ** 2) * (σ22))\n",
    "        )\n",
    "        μv = w * μ1 + (1 - w) * μ2\n",
    "        μpoints.append(μv)\n",
    "        σpoints.append(σv)\n",
    "    axarr = fig.add_subplot(1, 1, 1)\n",
    "    plt.plot(σpoints, μpoints)\n",
    "    if show:\n",
    "        plt.title(\"Efficient Frontier(two fund theorem)\")\n",
    "        plt.xlabel(\"σ (volatility)\")\n",
    "        plt.ylabel(\"μ (return)\")\n",
    "        plt.scatter((σ1), μ1, c=\"b\")\n",
    "        plt.scatter((σ2), μ2, c=\"r\")\n",
    "        plt.show()\n",
    "        return\n",
    "    return σpoints, μpoints\n",
    "\n",
    "\n",
    "r = 1 / 100\n",
    "two_fund_theorem_from_matrix(μ, C, r)\n",
    "# plotEfficientFrontier(μ, C)\n"
   ]
  },
  {
   "cell_type": "code",
   "execution_count": null,
   "metadata": {},
   "outputs": [],
   "source": [
    "def two_fund_theorem_from_points(μ1, σ1, μ2, σ2, covMinMarket=0, show=True, fig=None):\n",
    "    # two_fund_theorem_from_points(market_μ, market_σ, μ_min, σ_min, row, show=False, fig=fig)\n",
    "    if not fig:\n",
    "        fig = plt.figure(figsize=(6, 5))\n",
    "    if μ1 < μ2 and σ1 < σ2:\n",
    "        μ1, σ1, μ2, σ2 = μ2, σ2, μ1, σ1\n",
    "    μpoints, σpoints, colours = [], [], []\n",
    "\n",
    "    for w in range(-100, 1501):\n",
    "        w /= 1000\n",
    "        if w < 0:\n",
    "            colours.append('red')\n",
    "        elif w > 0 and w <= 1:\n",
    "            colours.append('green')\n",
    "        elif w > 1:\n",
    "            colours.append('blue')\n",
    "        else:\n",
    "            colours.append('none')\n",
    "        μv = w*μ1 + (1-w)*μ2\n",
    "        σv = sqrt((w**2*σ1**2)+(2*w*(1-w)*covMinMarket) + ((1-w)**2*σ2**2))\n",
    "        μpoints.append(μv)\n",
    "        σpoints.append(σv)\n",
    "    axarr = fig.add_subplot(1, 1, 1)\n",
    "    plt.plot(σpoints, μpoints)\n",
    "    if show:\n",
    "        plt.title('Efficient Frontier(two fund theorem)')\n",
    "        plt.xlabel('σ (volatility)')\n",
    "        plt.ylabel('μ (return)')\n",
    "        plt.scatter((σ1), μ1,  c='b')\n",
    "        plt.scatter((σ2), μ2,  c='r')\n",
    "        plt.show()\n",
    "        return\n",
    "    return σpoints, μpoints\n",
    "\n",
    "\n",
    "# W1 = (inital_W(C))\n",
    "# ones = np.ones((len(C), 1))\n",
    "# W2 = np.transpose(np.matmul(np.transpose(μ-r*ones), inv(C)) /\n",
    "#                   np.matmul((np.matmul(np.transpose(μ-r*ones), inv(C))),    ones))\n",
    "\n",
    "# μ1, σ1 = get_μσ2(μ, C, W1, False)\n",
    "# μ2, σ2 = get_μσ2(μ, C, W2, False)\n",
    "# two_fund_theorem_from_points(μ1, sqrt(σ1), μ2, sqrt(σ2), 0.3)\n"
   ]
  },
  {
   "cell_type": "code",
   "execution_count": null,
   "metadata": {},
   "outputs": [
    {
     "name": "stdout",
     "output_type": "stream",
     "text": [
      "\\begin{bmatrix}\n",
      "  0.1419 & 0.9854 & 2.397 & 0.1064 & 4.0827\\\\\n",
      "\\end{bmatrix}\n"
     ]
    }
   ],
   "source": [
    "# rf = 1/100\n",
    "# ones = np.ones((len(C), 1))\n",
    "# W = np.transpose(np.matmul(np.transpose(μ-rf*ones), inv(C)) /\n",
    "#                  np.matmul((np.matmul(np.transpose(μ-rf*ones), inv(C))),    ones))\n",
    "\n",
    "def bmatrix(a):\n",
    "    \"\"\"Returns a LaTeX bmatrix\n",
    "\n",
    "    :a: numpy array\n",
    "    :returns: LaTeX bmatrix as a string\n",
    "    \"\"\"\n",
    "    if len(a.shape) > 2:\n",
    "        raise ValueError('bmatrix can at most display two dimensions')\n",
    "    lines = str(a).replace('[', '').replace(']', '').splitlines()\n",
    "    rv = [r'\\begin{bmatrix}']\n",
    "    rv += ['  ' + ' & '.join(l.split()) + r'\\\\' for l in lines]\n",
    "    rv +=  [r'\\end{bmatrix}']\n",
    "    return '\\n'.join(rv)\n",
    "\n",
    "print(bmatrix(np.transpose(μ)))"
   ]
  },
  {
   "cell_type": "code",
   "execution_count": null,
   "metadata": {},
   "outputs": [
    {
     "name": "stdout",
     "output_type": "stream",
     "text": [
      "\n",
      "[[-0.96857547]\n",
      " [ 1.9341937 ]\n",
      " [ 0.50950553]\n",
      " [-1.67396799]\n",
      " [ 1.19884423]]\n",
      "[[-1.36084831  2.7175417   0.71585515 -2.35192464  1.68437586]] [[1.40499977]]\n"
     ]
    },
    {
     "data": {
      "image/png": "[encoded data removed]",
      "text/plain": [
       "<Figure size 720x576 with 1 Axes>"
      ]
     },
     "metadata": {
      "needs_background": "light"
     },
     "output_type": "display_data"
    },
    {
     "name": "stdout",
     "output_type": "stream",
     "text": [
      "$\\mu_{min} = 0.681752$ and  $\\sigma_{min}^2 = 0.691459^2$\n",
      "$\\mu_{M} = 7.70621$ and  $\\sigma_{M}^2 = 2.340455^2$\n",
      "min weights  \\begin{bmatrix}\n",
      "  1.14361526 & -0.0118701 & 0.01114916 & -0.27358096 & 0.13068665\\\\\n",
      "\\end{bmatrix}\n",
      "market weights  \\begin{bmatrix}\n",
      "  -0.96857547 & 1.9341937 & 0.50950553 & -1.67396799 & 1.19884423\\\\\n",
      "\\end{bmatrix}\n"
     ]
    }
   ],
   "source": [
    "def OneFundTheorem(μ, C, rf, end = 3.5):\n",
    "    ones = np.ones((len(C), 1))\n",
    "    W_market = np.transpose(np.matmul(np.transpose(μ-rf*ones), inv(C)) /\n",
    "                            np.matmul((np.matmul(np.transpose(μ-rf*ones), inv(C))),    ones))\n",
    "    W_min = inital_W(C)\n",
    "    market_μ, σ2p1 = get_μσ2(μ, C, W_market, False)\n",
    "    μ_min, σ_min = get_μσ2(μ, C, W_min, False)\n",
    "    market_σ = sqrt(σ2p1)\n",
    "    σ_min = sqrt(σ_min)\n",
    "    # print(market_μ, market_σ)\n",
    "    print()\n",
    "    sigma = np.linspace(0, end)\n",
    "    mew = rf+sigma*(market_μ-rf)/market_σ\n",
    "    fig = plt.figure(figsize=(10, 8))\n",
    "    # two_fund_theorem_from_points(\n",
    "    #     market_μ, market_σ, μ_min, σ_min, covMinMarket, show=False, fig=fig)\n",
    "    two_fund_theorem_from_matrix(μ, C, rf, show=False, fig=fig)\n",
    "    plt.title('Efficient Frontier(one fund theorem)')\n",
    "    plt.xlabel('σ (volatility)')\n",
    "    plt.ylabel('μ (return)')\n",
    "    plt.scatter((0), rf,  c='green', s=30)\n",
    "    plt.plot(sigma, mew, c='black', linestyle='dashed')\n",
    "    plt.scatter((σ_min), μ_min,  c='red')\n",
    "    plt.scatter((market_σ), market_μ,  c='green', s=30)\n",
    "    plt.show()\n",
    "    # min = 'min'\n",
    "    print(f'$\\mu_{{min}} = {round(μ_min, 6)}$ and  $\\sigma_{{min}}^2 = {round(σ_min, 6)}^2$')\n",
    "    print(f'$\\mu_{{M}} = {round(market_μ, 6)}$ and  $\\sigma_{{M}}^2 = {round(market_σ, 6)}^2$')\n",
    "    print('min weights ',bmatrix(np.transpose(W_min)))\n",
    "    print('market weights ', bmatrix(np.transpose(W_market)))\n",
    "\n",
    "OneFundTheorem(μ, C, 1/100)\n"
   ]
  },
  {
   "cell_type": "code",
   "execution_count": null,
   "metadata": {},
   "outputs": [
    {
     "data": {
      "image/png": "[encoded data removed]",
      "text/plain": [
       "<Figure size 720x576 with 1 Axes>"
      ]
     },
     "metadata": {
      "needs_background": "light"
     },
     "output_type": "display_data"
    },
    {
     "name": "stdout",
     "output_type": "stream",
     "text": [
      "2.3403913908603187 7.706000000000002\n"
     ]
    }
   ],
   "source": [
    "def RiskFreeAssest(μ, C, rf, covMinMarket):\n",
    "    dic = {}\n",
    "    for (σc, μc) in plotEfficientFrontier(μ, C, lb=-1, ub=20,show=False):\n",
    "        dic[((μc-rf)/σc)] = (μc)\n",
    "    W_market = Markowitz(dic[max(dic)], μ, C)\n",
    "    W_min = inital_W(C)\n",
    "    market_μ, σ2p1 = get_μσ2(μ, C, W_market, False)\n",
    "    market_σ = sqrt(σ2p1)\n",
    "    μ_min, σ_min = get_μσ2(μ, C, W_min, False)\n",
    "    σ_min = sqrt(σ_min)\n",
    "    # covMinMarket = np.matmul(np.matmul(np.transpose(W_min), C), W_market)\n",
    "        # this is the line from the rf point to the market portfolio\n",
    "    # capitalmarket line\n",
    "    fig = plt.figure(figsize=(10, 8))\n",
    "    # usign the 2 fund theorem to plot the efficeint frontier\n",
    "    val = two_fund_theorem_from_points(\n",
    "        μ_min, σ_min, market_μ, market_σ,  covMinMarket, show=False, fig=fig)\n",
    "    sigma = np.linspace(0, max(val[0]))\n",
    "    mew = rf+sigma*(market_μ-rf)/market_σ\n",
    "    plt.title('Efficient Frontier(Risk free asset)')\n",
    "    plt.xlabel('σ (volatility)')\n",
    "    plt.ylabel('μ (return)')\n",
    "    plt.plot(sigma, mew, c='black', linestyle='dashed')\n",
    "    plt.scatter((σ_min), μ_min,  c='red')\n",
    "    plt.scatter((market_σ), market_μ,  c='green', s=30)\n",
    "    plt.show()\n",
    "    # print('Risk free asset weights ', pd.DataFrame(np.transpose(W_min)).to_latex(), pd.DataFrame(np.transpose(W_market)).to_latex())\n",
    "    print((market_σ), market_μ)\n",
    "\n",
    "\n",
    "RiskFreeAssest(μ, C, 1/100, 0.4)\n",
    "# in theory this row value should be equal to 0 because the value of the one is set and has no variance\n",
    "# but if that happens we dont plot the tangent to the graph anymore.\n",
    "# the minimum-variance portfolio, depicted in red\n",
    "#  the tangency portfolio, depicted in green\n",
    "# efficient frontier depicted in blue\n",
    "#  capital market line (depicted in black dash)\n"
   ]
  },
  {
   "cell_type": "markdown",
   "metadata": {},
   "source": [
    "# part 4 of task 2\n"
   ]
  },
  {
   "cell_type": "code",
   "execution_count": null,
   "metadata": {},
   "outputs": [
    {
     "name": "stdout",
     "output_type": "stream",
     "text": [
      "\n",
      "[[-3.88164307]\n",
      " [ 8.19553007]\n",
      " [ 2.16583614]\n",
      " [-5.47972314]]\n",
      "[[-1.40436836  2.96512145  0.78359388 -1.98254957]] [[0.3617974]]\n"
     ]
    },
    {
     "data": {
      "image/png": "[encoded data removed]",
      "text/plain": [
       "<Figure size 720x576 with 1 Axes>"
      ]
     },
     "metadata": {
      "needs_background": "light"
     },
     "output_type": "display_data"
    },
    {
     "name": "stdout",
     "output_type": "stream",
     "text": [
      "$\\mu_{min} = 0.198233$ and  $\\sigma_{min}^2 = 0.7213^2$\n",
      "$\\mu_{M} = 12.134341$ and  $\\sigma_{M}^2 = 5.788904^2$\n",
      "min weights  \\begin{bmatrix}\n",
      "  1.2406331 & 0.00789434 & 0.01783561 & -0.26636306\\\\\n",
      "\\end{bmatrix}\n",
      "market weights  \\begin{bmatrix}\n",
      "  -3.88164307 & 8.19553007 & 2.16583614 & -5.47972314\\\\\n",
      "\\end{bmatrix}\n"
     ]
    }
   ],
   "source": [
    "R_array2 = R_array[:, :4]\n",
    "μ2 = np.array([[i] for i in np.sum(R_array2, axis=0)])\n",
    "C2 = np.cov(R_array2, rowvar=False)*365\n",
    "\n",
    "# plotEfficientFrontier(μ2, C2)\n",
    "\n",
    "# two_fund_theorem1(μ2, C2, 1/100)\n",
    "# two_fund_theorem2(μ1, sqrt(σ1), μ2, sqrt(σ2), 0.3)\n",
    "\n",
    "OneFundTheorem(μ2, C2, 1/100, 6.5)\n"
   ]
  },
  {
   "cell_type": "code",
   "execution_count": null,
   "metadata": {},
   "outputs": [
    {
     "data": {
      "image/png": "[encoded data removed]",
      "text/plain": [
       "<Figure size 720x576 with 1 Axes>"
      ]
     },
     "metadata": {
      "needs_background": "light"
     },
     "output_type": "display_data"
    },
    {
     "name": "stdout",
     "output_type": "stream",
     "text": [
      "5.7887411795642265 12.134\n"
     ]
    }
   ],
   "source": [
    "RiskFreeAssest(μ2, C2, 1/100, 0.15)"
   ]
  },
  {
   "cell_type": "code",
   "execution_count": null,
   "metadata": {},
   "outputs": [],
   "source": []
  },
  {
   "cell_type": "code",
   "execution_count": null,
   "metadata": {},
   "outputs": [],
   "source": []
  },
  {
   "cell_type": "code",
   "execution_count": null,
   "metadata": {},
   "outputs": [],
   "source": []
  },
  {
   "cell_type": "code",
   "execution_count": null,
   "metadata": {},
   "outputs": [],
   "source": []
  },
  {
   "cell_type": "code",
   "execution_count": null,
   "metadata": {},
   "outputs": [],
   "source": []
  },
  {
   "cell_type": "code",
   "execution_count": null,
   "metadata": {},
   "outputs": [],
   "source": []
  },
  {
   "cell_type": "code",
   "execution_count": null,
   "metadata": {},
   "outputs": [],
   "source": []
  },
  {
   "cell_type": "code",
   "execution_count": null,
   "metadata": {},
   "outputs": [],
   "source": []
  },
  {
   "cell_type": "code",
   "execution_count": null,
   "metadata": {},
   "outputs": [],
   "source": []
  },
  {
   "cell_type": "code",
   "execution_count": null,
   "metadata": {},
   "outputs": [],
   "source": []
  },
  {
   "cell_type": "code",
   "execution_count": null,
   "metadata": {},
   "outputs": [],
   "source": []
  },
  {
   "cell_type": "code",
   "execution_count": null,
   "metadata": {},
   "outputs": [],
   "source": []
  },
  {
   "cell_type": "code",
   "execution_count": null,
   "metadata": {},
   "outputs": [],
   "source": []
  },
  {
   "cell_type": "code",
   "execution_count": null,
   "metadata": {},
   "outputs": [],
   "source": []
  },
  {
   "cell_type": "code",
   "execution_count": null,
   "metadata": {},
   "outputs": [],
   "source": []
  },
  {
   "cell_type": "code",
   "execution_count": null,
   "metadata": {},
   "outputs": [],
   "source": []
  },
  {
   "cell_type": "code",
   "execution_count": null,
   "metadata": {},
   "outputs": [],
   "source": []
  },
  {
   "cell_type": "code",
   "execution_count": null,
   "metadata": {},
   "outputs": [],
   "source": []
  }
 ],
 "metadata": {
  "kernelspec": {
   "display_name": "Python 3.9.13 64-bit (windows store)",
   "language": "python",
   "name": "python3"
  },
  "language_info": {
   "codemirror_mode": {
    "name": "ipython",
    "version": 3
   },
   "file_extension": ".py",
   "mimetype": "text/x-python",
   "name": "python",
   "nbconvert_exporter": "python",
   "pygments_lexer": "ipython3",
   "version": "3.9.13"
  },
  "orig_nbformat": 4,
  "vscode": {
   "interpreter": {
    "hash": "2b4c0717c103a900e18fb973688e6feca7ecdd44b6bfce74b088aefbedb3a353"
   }
  }
 },
 "nbformat": 4,
 "nbformat_minor": 2
}
